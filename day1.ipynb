{
 "cells": [
  {
   "cell_type": "code",
   "execution_count": null,
   "metadata": {},
   "outputs": [
    {
     "data": {
      "text/plain": [
       "17191599"
      ]
     },
     "execution_count": 60,
     "metadata": {},
     "output_type": "execute_result"
    }
   ],
   "source": [
    "#part 1\n",
    "sum(abs(j-i)for i,j in zip(*[sorted(m) \n",
    "      for m in zip(*[(int(line.split()[0]),int(line.split()[1]))\n",
    "        for line in open(\"day1input.txt\").readlines()])]))"
   ]
  },
  {
   "cell_type": "code",
   "execution_count": null,
   "metadata": {},
   "outputs": [],
   "source": [
    "#part 2\n",
    "[(fs:=[__import__('collections').Counter(m) \n",
    "       for m in zip(*[(int(line.split()[0]),int(line.split()[1])) \n",
    "        for line in open(\"day1input.txt\").readlines()])]),\n",
    "sum(k*fs[0][k]*fs[1][k] for k in fs[0]&fs[1])][1]"
   ]
  }
 ],
 "metadata": {
  "kernelspec": {
   "display_name": ".conda",
   "language": "python",
   "name": "python3"
  },
  "language_info": {
   "codemirror_mode": {
    "name": "ipython",
    "version": 3
   },
   "file_extension": ".py",
   "mimetype": "text/x-python",
   "name": "python",
   "nbconvert_exporter": "python",
   "pygments_lexer": "ipython3",
   "version": "3.11.4"
  }
 },
 "nbformat": 4,
 "nbformat_minor": 2
}
