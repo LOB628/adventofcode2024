{
 "cells": [
  {
   "cell_type": "code",
   "execution_count": null,
   "metadata": {},
   "outputs": [
    {
     "data": {
      "text/plain": [
       "520"
      ]
     },
     "execution_count": 100,
     "metadata": {},
     "output_type": "execute_result"
    }
   ],
   "source": [
    "#part 1\n",
    "sum( all((res:=tuple(zip(*[(4>abs(diff:=l[j]-l[j+1])>0,(diff>0)) for j in range(len(l)-1)])))[0]) and (all(res[1]) or not any(res[1])) for l in [[int(n) for n in line.split()] for line in open('day2input.txt').readlines()])"
   ]
  },
  {
   "cell_type": "code",
   "execution_count": 101,
   "metadata": {},
   "outputs": [
    {
     "data": {
      "text/plain": [
       "520"
      ]
     },
     "execution_count": 101,
     "metadata": {},
     "output_type": "execute_result"
    }
   ],
   "source": [
    "#part 2\n",
    "sum((check:=lambda l:all((res:=tuple(zip(*[(4>abs(diff:=l[j]-l[j+1])>0,(diff>0))\n",
    "    for j in range(len(l)-1)])))[0]) and (all(res[1]) or not any(res[1])))(l)\n",
    "    or any(check(l[:k]+l[k+1:]) for k in range(len(l)))\n",
    "    for l in [[int(n) for n in line.split()] for line in open('day2input.txt').readlines()])"
   ]
  }
 ],
 "metadata": {
  "kernelspec": {
   "display_name": ".conda",
   "language": "python",
   "name": "python3"
  },
  "language_info": {
   "codemirror_mode": {
    "name": "ipython",
    "version": 3
   },
   "file_extension": ".py",
   "mimetype": "text/x-python",
   "name": "python",
   "nbconvert_exporter": "python",
   "pygments_lexer": "ipython3",
   "version": "3.11.4"
  }
 },
 "nbformat": 4,
 "nbformat_minor": 2
}
